{
  "nbformat": 4,
  "nbformat_minor": 0,
  "metadata": {
    "colab": {
      "name": "Copy of CV_Stamatics_A3.ipynb",
      "provenance": [],
      "collapsed_sections": []
    },
    "kernelspec": {
      "display_name": "Python 3",
      "language": "python",
      "name": "python3"
    },
    "language_info": {
      "codemirror_mode": {
        "name": "ipython",
        "version": 3
      },
      "file_extension": ".py",
      "mimetype": "text/x-python",
      "name": "python",
      "nbconvert_exporter": "python",
      "pygments_lexer": "ipython3",
      "version": "3.7.3"
    }
  },
  "cells": [
    {
      "cell_type": "markdown",
      "metadata": {
        "id": "5ZdVvhNcNS0D"
      },
      "source": [
        "# Assignment 3\n",
        "*This notebook includes both coding and written questions. Please hand in this notebook file with all the outputs and your answers to the written questions.*\n",
        "\n",
        "This assignment covers Canny edge detector and Hough transform.\n",
        "\n",
        "Also, I'd like to acknowledge the Stanford CS131. This assignment is highly based on the assignments from that course."
      ]
    },
    {
      "cell_type": "code",
      "metadata": {
        "id": "NZiveIk0NS0I",
        "colab": {
          "base_uri": "https://localhost:8080/"
        },
        "outputId": "d92e54a6-d480-4165-bfec-4db4d6b6417a"
      },
      "source": [
        "# Setup\n",
        "from __future__ import print_function\n",
        " \n",
        "import numpy as np\n",
        "import matplotlib.pyplot as plt\n",
        "import matplotlib.image as mpimg\n",
        "from time import time\n",
        "from skimage import io\n",
        " \n",
        "%matplotlib inline\n",
        "plt.rcParams['figure.figsize'] = (15.0, 12.0) # set default size of plots\n",
        "plt.rcParams['image.interpolation'] = 'nearest'\n",
        "plt.rcParams['image.cmap'] = 'gray'\n",
        " \n",
        "# for auto-reloading extenrnal modules\n",
        "%load_ext autoreload\n",
        "%autoreload 2"
      ],
      "execution_count": null,
      "outputs": [
        {
          "output_type": "stream",
          "text": [
            "The autoreload extension is already loaded. To reload it, use:\n",
            "  %reload_ext autoreload\n"
          ],
          "name": "stdout"
        }
      ]
    },
    {
      "cell_type": "code",
      "metadata": {
        "colab": {
          "base_uri": "https://localhost:8080/"
        },
        "id": "T3XOZVWyTN55",
        "outputId": "39ca762a-bd99-434b-d1ff-07701f72efe0"
      },
      "source": [
        "# Download necessary images and unzip them\n",
        "!wget --no-check-certificate 'https://drive.google.com/uc?export=download&id=1wPo9Op7IvSyOugSYXJllvLoNlbTUIsGP' -O edge.zip && unzip edge.zip"
      ],
      "execution_count": null,
      "outputs": [
        {
          "output_type": "stream",
          "text": [
            "--2021-05-20 19:20:52--  https://drive.google.com/uc?export=download&id=1wPo9Op7IvSyOugSYXJllvLoNlbTUIsGP\n",
            "Resolving drive.google.com (drive.google.com)... 108.177.111.101, 108.177.111.139, 108.177.111.102, ...\n",
            "Connecting to drive.google.com (drive.google.com)|108.177.111.101|:443... connected.\n",
            "HTTP request sent, awaiting response... 302 Moved Temporarily\n",
            "Location: https://doc-0c-1o-docs.googleusercontent.com/docs/securesc/ha0ro937gcuc7l7deffksulhg5h7mbp1/0gs6msepgibj6hu53uuq5hl214m0m7hi/1621538400000/04345933395257689425/*/1wPo9Op7IvSyOugSYXJllvLoNlbTUIsGP?e=download [following]\n",
            "Warning: wildcards not supported in HTTP.\n",
            "--2021-05-20 19:20:52--  https://doc-0c-1o-docs.googleusercontent.com/docs/securesc/ha0ro937gcuc7l7deffksulhg5h7mbp1/0gs6msepgibj6hu53uuq5hl214m0m7hi/1621538400000/04345933395257689425/*/1wPo9Op7IvSyOugSYXJllvLoNlbTUIsGP?e=download\n",
            "Resolving doc-0c-1o-docs.googleusercontent.com (doc-0c-1o-docs.googleusercontent.com)... 64.233.183.132, 2607:f8b0:4001:c0b::84\n",
            "Connecting to doc-0c-1o-docs.googleusercontent.com (doc-0c-1o-docs.googleusercontent.com)|64.233.183.132|:443... connected.\n",
            "HTTP request sent, awaiting response... 200 OK\n",
            "Length: 1832115 (1.7M) [application/x-zip-compressed]\n",
            "Saving to: ‘edge.zip’\n",
            "\n",
            "edge.zip            100%[===================>]   1.75M  --.-KB/s    in 0.01s   \n",
            "\n",
            "2021-05-20 19:20:52 (137 MB/s) - ‘edge.zip’ saved [1832115/1832115]\n",
            "\n",
            "Archive:  edge.zip\n",
            "replace 1.7a.png? [y]es, [n]o, [A]ll, [N]one, [r]ename: A\n",
            "  inflating: 1.7a.png                \n",
            "  inflating: cameraman.png           \n",
            "  inflating: edge.py                 \n",
            "  inflating: iguana.png              \n",
            "  inflating: iguana_edges.png        \n",
            "  inflating: lane1.png               \n",
            "  inflating: lane2.png               \n",
            "  inflating: references/iguana_canny.npy  \n",
            "  inflating: references/iguana_edge_tracking.npy  \n",
            "  inflating: references/iguana_non_max_suppressed.npy  \n",
            "  inflating: references/iguana_non_max_suppressed.png.npy  \n",
            "  inflating: road.jpg                \n",
            "  inflating: sudoku.png              \n"
          ],
          "name": "stdout"
        }
      ]
    },
    {
      "cell_type": "markdown",
      "metadata": {
        "collapsed": true,
        "id": "nYI1_G5BNS0K"
      },
      "source": [
        "## Part 1: Canny Edge Detector (85 points)\n",
        "In this part, you are going to implement a Canny edge detector. The Canny edge detection algorithm can be broken down in to five steps:\n",
        "1. Smoothing\n",
        "2. Finding gradients\n",
        "3. Non-maximum suppression\n",
        "4. Double thresholding\n",
        "5. Edge tracking by hysterisis"
      ]
    },
    {
      "cell_type": "markdown",
      "metadata": {
        "id": "TcPFkjA8NS0L"
      },
      "source": [
        "### 1.1 Smoothing (10 points)\n",
        "#### Implementation (5 points)\n",
        "We first smooth the input image by convolving it with a Gaussian kernel. The equation for a Gaussian kernel of size $(2k+1)\\times(2k+1)$ is given by:\n",
        "\n",
        "$$h_{ij}=\\frac{1}{2\\pi\\sigma^2}\\exp{\\Bigl(-\\frac{(i-k)^2+(j-k)^2}{2\\sigma^2}\\Bigr)}, 0\\leq i,j < 2k+1$$\n",
        "\n",
        "Implement **`gaussian_kernel`** the code below."
      ]
    },
    {
      "cell_type": "code",
      "metadata": {
        "id": "YBJ5gLD9NxK5"
      },
      "source": [
        "def gaussian_kernel(size, sigma):\n",
        "    \"\"\" Implementation of Gaussian Kernel.\n",
        "\n",
        "    This function follows the gaussian kernel formula,\n",
        "    and creates a kernel matrix.\n",
        "\n",
        "    Hints:\n",
        "    - Use np.pi and np.exp to compute pi and exp.\n",
        "\n",
        "    Args:\n",
        "        size: int of the size of output matrix.\n",
        "        sigma: float of sigma to calculate kernel.\n",
        "\n",
        "    Returns:\n",
        "        kernel: numpy array of shape (size, size).\n",
        "    \"\"\"\n",
        "\n",
        "    kernel = np.zeros((size, size))\n",
        "\n",
        "    ### YOUR CODE HERE\n",
        "    pass\n",
        "    ### END YOUR CODE\n",
        "\n",
        "    return kernel"
      ],
      "execution_count": null,
      "outputs": []
    },
    {
      "cell_type": "code",
      "metadata": {
        "id": "EvUBwH_wNS0M",
        "colab": {
          "base_uri": "https://localhost:8080/"
        },
        "outputId": "f0ce8078-878c-4369-ee93-860ca2e3864a"
      },
      "source": [
        "# Define 3x3 Gaussian kernel with std = 1\n",
        "kernel = gaussian_kernel(3, 1)\n",
        "kernel_test = np.array(\n",
        "    [[ 0.05854983, 0.09653235, 0.05854983],\n",
        "     [ 0.09653235, 0.15915494, 0.09653235],\n",
        "     [ 0.05854983, 0.09653235, 0.05854983]]\n",
        ")\n",
        "\n",
        "# Test Gaussian kernel\n",
        "if not np.allclose(kernel, kernel_test):\n",
        "    print('Incorrect values! Please check your implementation.')"
      ],
      "execution_count": null,
      "outputs": [
        {
          "output_type": "stream",
          "text": [
            "Incorrect values! Please check your implementation.\n"
          ],
          "name": "stdout"
        }
      ]
    },
    {
      "cell_type": "markdown",
      "metadata": {
        "id": "aI_auoqBNS0N"
      },
      "source": [
        "Implement **`conv`** in the code below."
      ]
    },
    {
      "cell_type": "code",
      "metadata": {
        "id": "TeuIbG2pU75I"
      },
      "source": [
        "def conv(image, kernel):\n",
        "    \"\"\" An implementation of convolution filter.\n",
        "\n",
        "    This function uses element-wise multiplication and np.sum()\n",
        "    to efficiently compute weighted sum of neighborhood at each\n",
        "    pixel.\n",
        "\n",
        "    Args:\n",
        "        image: numpy array of shape (Hi, Wi).\n",
        "        kernel: numpy array of shape (Hk, Wk).\n",
        "\n",
        "    Returns:\n",
        "        out: numpy array of shape (Hi, Wi).\n",
        "    \"\"\"\n",
        "    Hi, Wi = image.shape\n",
        "    Hk, Wk = kernel.shape\n",
        "    out = np.zeros((Hi, Wi))\n",
        "\n",
        "    # For this assignment, we will use edge values to pad the images.\n",
        "    # Zero padding will make derivatives at the image boundary very big,\n",
        "    # whereas we want to ignore the edges at the boundary.\n",
        "    pad_width0 = Hk // 2\n",
        "    pad_width1 = Wk // 2\n",
        "    pad_width = ((pad_width0,pad_width0),(pad_width1,pad_width1))\n",
        "    padded = np.pad(image, pad_width, mode='edge')\n",
        "\n",
        "    ### YOUR CODE HERE\n",
        "    pass\n",
        "    ### END YOUR CODE\n",
        "\n",
        "    return out"
      ],
      "execution_count": null,
      "outputs": []
    },
    {
      "cell_type": "code",
      "metadata": {
        "id": "XRXX_BdrNS0N",
        "colab": {
          "base_uri": "https://localhost:8080/",
          "height": 319
        },
        "outputId": "146cd946-416d-4508-973a-44993efade27"
      },
      "source": [
        "# Test with different kernel_size and sigma\n",
        "kernel_size = 5\n",
        "sigma = 1.4\n",
        "\n",
        "# Load image\n",
        "img = io.imread('iguana.png', as_gray=True)\n",
        "\n",
        "# Define 5x5 Gaussian kernel with std = sigma\n",
        "kernel = gaussian_kernel(kernel_size, sigma)\n",
        "\n",
        "# Convolve image with kernel to achieve smoothed effect\n",
        "smoothed = conv(img, kernel)\n",
        "\n",
        "plt.subplot(1,2,1)\n",
        "plt.imshow(img)\n",
        "plt.title('Original image')\n",
        "plt.axis('off')\n",
        "\n",
        "plt.subplot(1,2,2)\n",
        "plt.imshow(smoothed)\n",
        "plt.title('Smoothed image')\n",
        "plt.axis('off')\n",
        "\n",
        "plt.show()"
      ],
      "execution_count": null,
      "outputs": [
        {
          "output_type": "display_data",
          "data": {
            "image/png": "[encoded data removed]",
            "text/plain": [
              "<Figure size 1080x864 with 2 Axes>"
            ]
          },
          "metadata": {
            "tags": [],
            "needs_background": "light"
          }
        }
      ]
    },
    {
      "cell_type": "markdown",
      "metadata": {
        "id": "KM5C9eYjNS0O"
      },
      "source": [
        "#### Question (5 points)\n",
        "What is the effect of changing kernel_size and sigma?"
      ]
    },
    {
      "cell_type": "markdown",
      "metadata": {
        "id": "0TPqpySrNS0P"
      },
      "source": [
        "**Your Answer:** Write your solution in this markdown cell."
      ]
    },
    {
      "cell_type": "markdown",
      "metadata": {
        "collapsed": true,
        "id": "dRAhSJZFNS0P"
      },
      "source": [
        "### 1.2 Finding gradients (15 points)\n",
        "The gradient of a 2D scalar function $I:\\mathbb{R}^2\\rightarrow{\\mathbb{R}}$ in Cartesian coordinate is defined by:\n",
        "\n",
        "$$\\nabla{I(x,y)}=\\bigl[\\frac{\\partial{I}}{\\partial{x}},\\frac{\\partial{I}}{\\partial{y}}\\bigr],$$\n",
        "\n",
        "where\n",
        "\n",
        "$$\n",
        "\\frac{\\partial{I(x,y)}}{\\partial{x}}=\\lim_{\\Delta{x}\\to{0}}\\frac{I(x+\\Delta{x},y)-I(x,y)}{\\Delta{x}} \\\\\n",
        "\\frac{\\partial{I(x,y)}}{\\partial{y}}=\\lim_{\\Delta{y}\\to{0}}\\frac{I(x,y+\\Delta{y})-I(x,y)}{\\Delta{y}}.\n",
        "$$\n",
        "\n",
        "In case of images, we can approximate the partial derivatives by taking differences at one pixel intervals:\n",
        "\n",
        "$$\n",
        "\\frac{\\partial{I(x,y)}}{\\partial{x}}\\approx{\\frac{I(x+1,y)-I(x-1,y)}{2}} \\\\\n",
        "\\frac{\\partial{I(x,y)}}{\\partial{y}}\\approx{\\frac{I(x,y+1)-I(x,y-1)}{2}}\n",
        "$$\n",
        "\n",
        "Note that the partial derivatives can be computed by convolving the image $I$ with some appropriate kernels $D_x$ and $D_y$:\n",
        "\n",
        "$$\n",
        "\\frac{\\partial{I}}{\\partial{x}}\\approx{I*D_x}=G_x \\\\\n",
        "\\frac{\\partial{I}}{\\partial{y}}\\approx{I*D_y}=G_y\n",
        "$$"
      ]
    },
    {
      "cell_type": "markdown",
      "metadata": {
        "id": "unPv-DavNS0R"
      },
      "source": [
        "#### Implementation (5 points)\n",
        "Find the kernels $D_x$ and $D_y$ and implement **`partial_x`** and **`partial_y`** using `conv` .\n",
        "\n",
        "*-Hint: Remeber that convolution flips the kernel.*"
      ]
    },
    {
      "cell_type": "code",
      "metadata": {
        "id": "qlw4xJVhN8-2"
      },
      "source": [
        "def partial_x(img):\n",
        "    \"\"\" Computes partial x-derivative of input img.\n",
        "\n",
        "    Hints:\n",
        "        - You may use the conv function in defined in this file.\n",
        "\n",
        "    Args:\n",
        "        img: numpy array of shape (H, W).\n",
        "    Returns:\n",
        "        out: x-derivative image.\n",
        "    \"\"\"\n",
        "\n",
        "    out = None\n",
        "\n",
        "    ### YOUR CODE HERE\n",
        "    pass\n",
        "    ### END YOUR CODE\n",
        "\n",
        "    return out"
      ],
      "execution_count": null,
      "outputs": []
    },
    {
      "cell_type": "code",
      "metadata": {
        "id": "lM0FM9n5N-Nh"
      },
      "source": [
        "def partial_y(img):\n",
        "    \"\"\" Computes partial y-derivative of input img.\n",
        "\n",
        "    Hints:\n",
        "        - You may use the conv function in defined in this file.\n",
        "\n",
        "    Args:\n",
        "        img: numpy array of shape (H, W).\n",
        "    Returns:\n",
        "        out: y-derivative image.\n",
        "    \"\"\"\n",
        "\n",
        "    out = None\n",
        "\n",
        "    ### YOUR CODE HERE\n",
        "    pass\n",
        "    ### END YOUR CODE\n",
        "\n",
        "    return out"
      ],
      "execution_count": null,
      "outputs": []
    },
    {
      "cell_type": "code",
      "metadata": {
        "id": "yXOEfK7MNS0R",
        "colab": {
          "base_uri": "https://localhost:8080/"
        },
        "outputId": "f4b9f34a-b457-45af-f0f5-44416d9c1c87"
      },
      "source": [
        "# Test input\n",
        "I = np.array(\n",
        "    [[0, 0, 0],\n",
        "     [0, 1, 0],\n",
        "     [0, 0, 0]]\n",
        ")\n",
        "\n",
        "# Expected outputs\n",
        "I_x_test = np.array(\n",
        "    [[ 0, 0, 0],\n",
        "     [ 0.5, 0, -0.5],\n",
        "     [ 0, 0, 0]]\n",
        ")\n",
        "\n",
        "I_y_test = np.array(\n",
        "    [[ 0, 0.5, 0],\n",
        "     [ 0, 0, 0],\n",
        "     [ 0, -0.5, 0]]\n",
        ")\n",
        "\n",
        "# Compute partial derivatives\n",
        "I_x = partial_x(I)\n",
        "I_y = partial_y(I)\n",
        "\n",
        "# Test correctness of partial_x and partial_y\n",
        "if not np.all(I_x == I_x_test):\n",
        "    print('partial_x incorrect')\n",
        "    \n",
        "if not np.all(I_y == I_y_test):\n",
        "    print('partial_y incorrect')"
      ],
      "execution_count": null,
      "outputs": [
        {
          "output_type": "stream",
          "text": [
            "partial_x incorrect\n",
            "partial_y incorrect\n"
          ],
          "name": "stdout"
        }
      ]
    },
    {
      "cell_type": "code",
      "metadata": {
        "id": "RcfTa5dcNS0S",
        "colab": {
          "base_uri": "https://localhost:8080/",
          "height": 790
        },
        "outputId": "23211c78-c03b-4164-c42f-a9f1caa5bc64"
      },
      "source": [
        "# Compute partial derivatives of smoothed image\n",
        "Gx = partial_x(smoothed)\n",
        "Gy = partial_y(smoothed)\n",
        "\n",
        "plt.subplot(1,2,1)\n",
        "plt.imshow(Gx)\n",
        "plt.title('Derivative in x direction')\n",
        "plt.axis('off')\n",
        "\n",
        "plt.subplot(1,2,2)\n",
        "plt.imshow(Gy)\n",
        "plt.title('Derivative in y direction')\n",
        "plt.axis('off')\n",
        "\n",
        "plt.show()"
      ],
      "execution_count": null,
      "outputs": [
        {
          "output_type": "error",
          "ename": "TypeError",
          "evalue": "ignored",
          "traceback": [
            "\u001b[0;31m---------------------------------------------------------------------------\u001b[0m",
            "\u001b[0;31mTypeError\u001b[0m                                 Traceback (most recent call last)",
            "\u001b[0;32m<ipython-input-33-6dc299599db8>\u001b[0m in \u001b[0;36m<module>\u001b[0;34m()\u001b[0m\n\u001b[1;32m      4\u001b[0m \u001b[0;34m\u001b[0m\u001b[0m\n\u001b[1;32m      5\u001b[0m \u001b[0mplt\u001b[0m\u001b[0;34m.\u001b[0m\u001b[0msubplot\u001b[0m\u001b[0;34m(\u001b[0m\u001b[0;36m1\u001b[0m\u001b[0;34m,\u001b[0m\u001b[0;36m2\u001b[0m\u001b[0;34m,\u001b[0m\u001b[0;36m1\u001b[0m\u001b[0;34m)\u001b[0m\u001b[0;34m\u001b[0m\u001b[0;34m\u001b[0m\u001b[0m\n\u001b[0;32m----> 6\u001b[0;31m \u001b[0mplt\u001b[0m\u001b[0;34m.\u001b[0m\u001b[0mimshow\u001b[0m\u001b[0;34m(\u001b[0m\u001b[0mGx\u001b[0m\u001b[0;34m)\u001b[0m\u001b[0;34m\u001b[0m\u001b[0;34m\u001b[0m\u001b[0m\n\u001b[0m\u001b[1;32m      7\u001b[0m \u001b[0mplt\u001b[0m\u001b[0;34m.\u001b[0m\u001b[0mtitle\u001b[0m\u001b[0;34m(\u001b[0m\u001b[0;34m'Derivative in x direction'\u001b[0m\u001b[0;34m)\u001b[0m\u001b[0;34m\u001b[0m\u001b[0;34m\u001b[0m\u001b[0m\n\u001b[1;32m      8\u001b[0m \u001b[0mplt\u001b[0m\u001b[0;34m.\u001b[0m\u001b[0maxis\u001b[0m\u001b[0;34m(\u001b[0m\u001b[0;34m'off'\u001b[0m\u001b[0;34m)\u001b[0m\u001b[0;34m\u001b[0m\u001b[0;34m\u001b[0m\u001b[0m\n",
            "\u001b[0;32m/usr/local/lib/python3.7/dist-packages/matplotlib/pyplot.py\u001b[0m in \u001b[0;36mimshow\u001b[0;34m(X, cmap, norm, aspect, interpolation, alpha, vmin, vmax, origin, extent, shape, filternorm, filterrad, imlim, resample, url, data, **kwargs)\u001b[0m\n\u001b[1;32m   2649\u001b[0m         \u001b[0mfilternorm\u001b[0m\u001b[0;34m=\u001b[0m\u001b[0mfilternorm\u001b[0m\u001b[0;34m,\u001b[0m \u001b[0mfilterrad\u001b[0m\u001b[0;34m=\u001b[0m\u001b[0mfilterrad\u001b[0m\u001b[0;34m,\u001b[0m \u001b[0mimlim\u001b[0m\u001b[0;34m=\u001b[0m\u001b[0mimlim\u001b[0m\u001b[0;34m,\u001b[0m\u001b[0;34m\u001b[0m\u001b[0;34m\u001b[0m\u001b[0m\n\u001b[1;32m   2650\u001b[0m         resample=resample, url=url, **({\"data\": data} if data is not\n\u001b[0;32m-> 2651\u001b[0;31m         None else {}), **kwargs)\n\u001b[0m\u001b[1;32m   2652\u001b[0m     \u001b[0msci\u001b[0m\u001b[0;34m(\u001b[0m\u001b[0m__ret\u001b[0m\u001b[0;34m)\u001b[0m\u001b[0;34m\u001b[0m\u001b[0;34m\u001b[0m\u001b[0m\n\u001b[1;32m   2653\u001b[0m     \u001b[0;32mreturn\u001b[0m \u001b[0m__ret\u001b[0m\u001b[0;34m\u001b[0m\u001b[0;34m\u001b[0m\u001b[0m\n",
            "\u001b[0;32m/usr/local/lib/python3.7/dist-packages/matplotlib/__init__.py\u001b[0m in \u001b[0;36minner\u001b[0;34m(ax, data, *args, **kwargs)\u001b[0m\n\u001b[1;32m   1563\u001b[0m     \u001b[0;32mdef\u001b[0m \u001b[0minner\u001b[0m\u001b[0;34m(\u001b[0m\u001b[0max\u001b[0m\u001b[0;34m,\u001b[0m \u001b[0;34m*\u001b[0m\u001b[0margs\u001b[0m\u001b[0;34m,\u001b[0m \u001b[0mdata\u001b[0m\u001b[0;34m=\u001b[0m\u001b[0;32mNone\u001b[0m\u001b[0;34m,\u001b[0m \u001b[0;34m**\u001b[0m\u001b[0mkwargs\u001b[0m\u001b[0;34m)\u001b[0m\u001b[0;34m:\u001b[0m\u001b[0;34m\u001b[0m\u001b[0;34m\u001b[0m\u001b[0m\n\u001b[1;32m   1564\u001b[0m         \u001b[0;32mif\u001b[0m \u001b[0mdata\u001b[0m \u001b[0;32mis\u001b[0m \u001b[0;32mNone\u001b[0m\u001b[0;34m:\u001b[0m\u001b[0;34m\u001b[0m\u001b[0;34m\u001b[0m\u001b[0m\n\u001b[0;32m-> 1565\u001b[0;31m             \u001b[0;32mreturn\u001b[0m \u001b[0mfunc\u001b[0m\u001b[0;34m(\u001b[0m\u001b[0max\u001b[0m\u001b[0;34m,\u001b[0m \u001b[0;34m*\u001b[0m\u001b[0mmap\u001b[0m\u001b[0;34m(\u001b[0m\u001b[0msanitize_sequence\u001b[0m\u001b[0;34m,\u001b[0m \u001b[0margs\u001b[0m\u001b[0;34m)\u001b[0m\u001b[0;34m,\u001b[0m \u001b[0;34m**\u001b[0m\u001b[0mkwargs\u001b[0m\u001b[0;34m)\u001b[0m\u001b[0;34m\u001b[0m\u001b[0;34m\u001b[0m\u001b[0m\n\u001b[0m\u001b[1;32m   1566\u001b[0m \u001b[0;34m\u001b[0m\u001b[0m\n\u001b[1;32m   1567\u001b[0m         \u001b[0mbound\u001b[0m \u001b[0;34m=\u001b[0m \u001b[0mnew_sig\u001b[0m\u001b[0;34m.\u001b[0m\u001b[0mbind\u001b[0m\u001b[0;34m(\u001b[0m\u001b[0max\u001b[0m\u001b[0;34m,\u001b[0m \u001b[0;34m*\u001b[0m\u001b[0margs\u001b[0m\u001b[0;34m,\u001b[0m \u001b[0;34m**\u001b[0m\u001b[0mkwargs\u001b[0m\u001b[0;34m)\u001b[0m\u001b[0;34m\u001b[0m\u001b[0;34m\u001b[0m\u001b[0m\n",
            "\u001b[0;32m/usr/local/lib/python3.7/dist-packages/matplotlib/cbook/deprecation.py\u001b[0m in \u001b[0;36mwrapper\u001b[0;34m(*args, **kwargs)\u001b[0m\n\u001b[1;32m    356\u001b[0m                 \u001b[0;34mf\"%(removal)s.  If any parameter follows {name!r}, they \"\u001b[0m\u001b[0;34m\u001b[0m\u001b[0;34m\u001b[0m\u001b[0m\n\u001b[1;32m    357\u001b[0m                 f\"should be pass as keyword, not positionally.\")\n\u001b[0;32m--> 358\u001b[0;31m         \u001b[0;32mreturn\u001b[0m \u001b[0mfunc\u001b[0m\u001b[0;34m(\u001b[0m\u001b[0;34m*\u001b[0m\u001b[0margs\u001b[0m\u001b[0;34m,\u001b[0m \u001b[0;34m**\u001b[0m\u001b[0mkwargs\u001b[0m\u001b[0;34m)\u001b[0m\u001b[0;34m\u001b[0m\u001b[0;34m\u001b[0m\u001b[0m\n\u001b[0m\u001b[1;32m    359\u001b[0m \u001b[0;34m\u001b[0m\u001b[0m\n\u001b[1;32m    360\u001b[0m     \u001b[0;32mreturn\u001b[0m \u001b[0mwrapper\u001b[0m\u001b[0;34m\u001b[0m\u001b[0;34m\u001b[0m\u001b[0m\n",
            "\u001b[0;32m/usr/local/lib/python3.7/dist-packages/matplotlib/cbook/deprecation.py\u001b[0m in \u001b[0;36mwrapper\u001b[0;34m(*args, **kwargs)\u001b[0m\n\u001b[1;32m    356\u001b[0m                 \u001b[0;34mf\"%(removal)s.  If any parameter follows {name!r}, they \"\u001b[0m\u001b[0;34m\u001b[0m\u001b[0;34m\u001b[0m\u001b[0m\n\u001b[1;32m    357\u001b[0m                 f\"should be pass as keyword, not positionally.\")\n\u001b[0;32m--> 358\u001b[0;31m         \u001b[0;32mreturn\u001b[0m \u001b[0mfunc\u001b[0m\u001b[0;34m(\u001b[0m\u001b[0;34m*\u001b[0m\u001b[0margs\u001b[0m\u001b[0;34m,\u001b[0m \u001b[0;34m**\u001b[0m\u001b[0mkwargs\u001b[0m\u001b[0;34m)\u001b[0m\u001b[0;34m\u001b[0m\u001b[0;34m\u001b[0m\u001b[0m\n\u001b[0m\u001b[1;32m    359\u001b[0m \u001b[0;34m\u001b[0m\u001b[0m\n\u001b[1;32m    360\u001b[0m     \u001b[0;32mreturn\u001b[0m \u001b[0mwrapper\u001b[0m\u001b[0;34m\u001b[0m\u001b[0;34m\u001b[0m\u001b[0m\n",
            "\u001b[0;32m/usr/local/lib/python3.7/dist-packages/matplotlib/axes/_axes.py\u001b[0m in \u001b[0;36mimshow\u001b[0;34m(self, X, cmap, norm, aspect, interpolation, alpha, vmin, vmax, origin, extent, shape, filternorm, filterrad, imlim, resample, url, **kwargs)\u001b[0m\n\u001b[1;32m   5624\u001b[0m                               resample=resample, **kwargs)\n\u001b[1;32m   5625\u001b[0m \u001b[0;34m\u001b[0m\u001b[0m\n\u001b[0;32m-> 5626\u001b[0;31m         \u001b[0mim\u001b[0m\u001b[0;34m.\u001b[0m\u001b[0mset_data\u001b[0m\u001b[0;34m(\u001b[0m\u001b[0mX\u001b[0m\u001b[0;34m)\u001b[0m\u001b[0;34m\u001b[0m\u001b[0;34m\u001b[0m\u001b[0m\n\u001b[0m\u001b[1;32m   5627\u001b[0m         \u001b[0mim\u001b[0m\u001b[0;34m.\u001b[0m\u001b[0mset_alpha\u001b[0m\u001b[0;34m(\u001b[0m\u001b[0malpha\u001b[0m\u001b[0;34m)\u001b[0m\u001b[0;34m\u001b[0m\u001b[0;34m\u001b[0m\u001b[0m\n\u001b[1;32m   5628\u001b[0m         \u001b[0;32mif\u001b[0m \u001b[0mim\u001b[0m\u001b[0;34m.\u001b[0m\u001b[0mget_clip_path\u001b[0m\u001b[0;34m(\u001b[0m\u001b[0;34m)\u001b[0m \u001b[0;32mis\u001b[0m \u001b[0;32mNone\u001b[0m\u001b[0;34m:\u001b[0m\u001b[0;34m\u001b[0m\u001b[0;34m\u001b[0m\u001b[0m\n",
            "\u001b[0;32m/usr/local/lib/python3.7/dist-packages/matplotlib/image.py\u001b[0m in \u001b[0;36mset_data\u001b[0;34m(self, A)\u001b[0m\n\u001b[1;32m    692\u001b[0m                 not np.can_cast(self._A.dtype, float, \"same_kind\")):\n\u001b[1;32m    693\u001b[0m             raise TypeError(\"Image data of dtype {} cannot be converted to \"\n\u001b[0;32m--> 694\u001b[0;31m                             \"float\".format(self._A.dtype))\n\u001b[0m\u001b[1;32m    695\u001b[0m \u001b[0;34m\u001b[0m\u001b[0m\n\u001b[1;32m    696\u001b[0m         if not (self._A.ndim == 2\n",
            "\u001b[0;31mTypeError\u001b[0m: Image data of dtype object cannot be converted to float"
          ]
        },
        {
          "output_type": "display_data",
          "data": {
            "image/png": "[encoded data removed]",
            "text/plain": [
              "<Figure size 1080x864 with 1 Axes>"
            ]
          },
          "metadata": {
            "tags": [],
            "needs_background": "light"
          }
        }
      ]
    },
    {
      "cell_type": "markdown",
      "metadata": {
        "id": "6hgh4QHoNS0U"
      },
      "source": [
        "#### Question (5 points)\n",
        "What is the reason for performing smoothing prior to computing the gradients?"
      ]
    },
    {
      "cell_type": "markdown",
      "metadata": {
        "id": "kT8-lNT8NS0U"
      },
      "source": [
        "**Your Answer:** Write your solution in this markdown cell."
      ]
    },
    {
      "cell_type": "markdown",
      "metadata": {
        "id": "tx--DFACNS0V"
      },
      "source": [
        "#### Implementation (5 points)\n",
        "Now, we can compute the magnitude and direction of gradient with the two partial derivatives:\n",
        "\n",
        "$$\n",
        "G = \\sqrt{G_{x}^{2}+G_{y}^{2}} \\\\\n",
        "\\Theta = arctan\\bigl(\\frac{G_{y}}{G_{x}}\\bigr)\n",
        "$$\n",
        "\n",
        "Implement **`gradient`** which takes in an image and outputs $G$ and $\\Theta$."
      ]
    },
    {
      "cell_type": "code",
      "metadata": {
        "id": "kolcok_TOFRN"
      },
      "source": [
        "def gradient(img):\n",
        "    \"\"\" Returns gradient magnitude and direction of input img.\n",
        "\n",
        "    Args:\n",
        "        img: Grayscale image. Numpy array of shape (H, W).\n",
        "\n",
        "    Returns:\n",
        "        G: Magnitude of gradient at each pixel in img.\n",
        "            Numpy array of shape (H, W).\n",
        "        theta: Direction(in degrees, 0 <= theta < 360) of gradient\n",
        "            at each pixel in img. Numpy array of shape (H, W).\n",
        "\n",
        "    Hints:\n",
        "        - Use np.sqrt and np.arctan2 to calculate square root and arctan\n",
        "    \"\"\"\n",
        "    G = np.zeros(img.shape)\n",
        "    theta = np.zeros(img.shape)\n",
        "\n",
        "    ### YOUR CODE HERE\n",
        "    pass\n",
        "    ### END YOUR CODE\n",
        "\n",
        "    return G, theta"
      ],
      "execution_count": null,
      "outputs": []
    },
    {
      "cell_type": "code",
      "metadata": {
        "id": "PceLOcQXNS0V"
      },
      "source": [
        "G, theta = gradient(smoothed)\n",
        "\n",
        "if not np.all(G >= 0):\n",
        "    print('Magnitude of gradients should be non-negative.')\n",
        "    \n",
        "if not np.all((theta >= 0) * (theta < 360)):\n",
        "    print('Direction of gradients should be in range 0 <= theta < 360')\n",
        "\n",
        "plt.imshow(G)\n",
        "plt.title('Gradient magnitude')\n",
        "plt.axis('off')\n",
        "plt.show()"
      ],
      "execution_count": null,
      "outputs": []
    },
    {
      "cell_type": "markdown",
      "metadata": {
        "id": "PpM_nf4gNS0W"
      },
      "source": [
        "### 1.3 Non-maximum suppression (15 points)\n",
        "You should be able to see that the edges extracted from the gradient of the smoothed image are quite thick and blurry. The purpose of this step is to convert the \"blurred\" edges into \"sharp\" edges. Basically, this is done by preserving all local maxima in the gradient image and discarding everything else. The algorithm is for each pixel (x,y) in the gradient image:\n",
        "1. Round the gradient direction $\\Theta[y,x]$ to the nearest 45 degrees, corresponding to the use of an 8-connected neighbourhood.\n",
        "\n",
        "2. Compare the edge strength of the current pixel with the edge strength of the pixel in the positive and negative gradient directions. For example, if the gradient direction is south (theta=90), compare with the pixels to the north and south.\n",
        "\n",
        "3. If the edge strength of the current pixel is the largest; preserve the value of the edge strength. If not, suppress (i.e. remove) the value.\n",
        "\n",
        "Implement **`non_maximum_suppression`**.\n",
        "\n",
        "We provide the correct output and the difference between it and your result for debugging purposes.  If you see white spots in the Difference image, you should check your implementation."
      ]
    },
    {
      "cell_type": "code",
      "metadata": {
        "id": "7sPo16yNOKSl"
      },
      "source": [
        "def non_maximum_suppression(G, theta):\n",
        "    \"\"\" Performs non-maximum suppression.\n",
        "\n",
        "    This function performs non-maximum suppression along the direction\n",
        "    of gradient (theta) on the gradient magnitude image (G).\n",
        "\n",
        "    Args:\n",
        "        G: gradient magnitude image with shape of (H, W).\n",
        "        theta: direction of gradients with shape of (H, W).\n",
        "\n",
        "    Returns:\n",
        "        out: non-maxima suppressed image.\n",
        "    \"\"\"\n",
        "    H, W = G.shape\n",
        "    out = np.zeros((H, W))\n",
        "\n",
        "    # Round the gradient direction to the nearest 45 degrees\n",
        "    theta = np.floor((theta + 22.5) / 45) * 45\n",
        "\n",
        "    #print(G)\n",
        "    ### BEGIN YOUR CODE\n",
        "    pass\n",
        "    ### END YOUR CODE\n",
        "\n",
        "    return out"
      ],
      "execution_count": null,
      "outputs": []
    },
    {
      "cell_type": "code",
      "metadata": {
        "id": "yWv5bPd6NS0X"
      },
      "source": [
        "# Test input\n",
        "g = np.array(\n",
        "    [[0.4, 0.5, 0.6],\n",
        "     [0.3, 0.5, 0.7],\n",
        "     [0.4, 0.5, 0.6]]\n",
        ")\n",
        "\n",
        "# Print out non-maximum suppressed output\n",
        "# varying theta\n",
        "for angle in range(0, 180, 45):\n",
        "    #print('Thetas:', angle)\n",
        "    t = np.ones((3, 3)) * angle # Initialize theta\n",
        "    print(non_maximum_suppression(g, t))\n"
      ],
      "execution_count": null,
      "outputs": []
    },
    {
      "cell_type": "code",
      "metadata": {
        "id": "34C1omoiNS0Y"
      },
      "source": [
        "nms = non_maximum_suppression(G, theta)\n",
        "plt.imshow(nms)\n",
        "plt.title('Non-maximum suppressed')\n",
        "plt.axis('off')\n",
        "plt.show()\n",
        "\n",
        "plt.subplot(1, 3, 1)\n",
        "plt.imshow(nms)\n",
        "plt.axis('off')\n",
        "plt.title('Your result')\n",
        "\n",
        "\n",
        "plt.subplot(1, 3, 2)\n",
        "reference = np.load('references/iguana_non_max_suppressed.npy')\n",
        "plt.imshow(reference)\n",
        "plt.axis('off')\n",
        "plt.title('Reference')\n",
        "\n",
        "plt.subplot(1, 3, 3)\n",
        "plt.imshow(nms - reference)\n",
        "plt.title('Difference')\n",
        "plt.axis('off')\n",
        "plt.show()\n",
        "\n",
        "np.amax(nms-reference)"
      ],
      "execution_count": null,
      "outputs": []
    },
    {
      "cell_type": "markdown",
      "metadata": {
        "id": "wrw5-d1gNS0Y"
      },
      "source": [
        "### 1.4 Double Thresholding (20 points)\n",
        "\n",
        "The edge-pixels remaining after the non-maximum suppression step are (still) marked with their strength pixel-by-pixel. Many of these will probably be true edges in the image, but some may be caused by noise or color variations, for instance, due to rough surfaces. The simplest way to discern between these would be to use a threshold, so that only edges stronger that a certain value would be preserved. The Canny edge detection algorithm uses double thresholding. Edge pixels stronger than the high threshold are marked as strong; edge pixels weaker than the low threshold are suppressed and edge pixels between the two thresholds are marked as weak.\n",
        "\n",
        "Implement **`double_thresholding`**"
      ]
    },
    {
      "cell_type": "code",
      "metadata": {
        "id": "OJb-T7zCORH_"
      },
      "source": [
        "def double_thresholding(img, high, low):\n",
        "    \"\"\"\n",
        "    Args:\n",
        "        img: numpy array of shape (H, W) representing NMS edge response.\n",
        "        high: high threshold(float) for strong edges.\n",
        "        low: low threshold(float) for weak edges.\n",
        "\n",
        "    Returns:\n",
        "        strong_edges: Boolean array representing strong edges.\n",
        "            Strong edeges are the pixels with the values greater than\n",
        "            the higher threshold.\n",
        "        weak_edges: Boolean array representing weak edges.\n",
        "            Weak edges are the pixels with the values smaller or equal to the\n",
        "            higher threshold and greater than the lower threshold.\n",
        "    \"\"\"\n",
        "\n",
        "    strong_edges = np.zeros(img.shape, dtype=np.bool)\n",
        "    weak_edges = np.zeros(img.shape, dtype=np.bool)\n",
        "\n",
        "    ### YOUR CODE HERE\n",
        "    pass\n",
        "    ### END YOUR CODE\n",
        "\n",
        "    return strong_edges, weak_edges"
      ],
      "execution_count": null,
      "outputs": []
    },
    {
      "cell_type": "code",
      "metadata": {
        "id": "Kt7P4nxCNS0Z"
      },
      "source": [
        "low_threshold = 0.02\n",
        "high_threshold = 0.03\n",
        "\n",
        "strong_edges, weak_edges = double_thresholding(nms, high_threshold, low_threshold)\n",
        "assert(np.sum(strong_edges & weak_edges) == 0)\n",
        "\n",
        "edges=strong_edges * 1.0 + weak_edges * 0.5\n",
        "\n",
        "plt.subplot(1,2,1)\n",
        "plt.imshow(strong_edges)\n",
        "plt.title('Strong Edges')\n",
        "plt.axis('off')\n",
        "\n",
        "plt.subplot(1,2,2)\n",
        "plt.imshow(edges)\n",
        "plt.title('Strong+Weak Edges')\n",
        "plt.axis('off')\n",
        "\n",
        "plt.show()"
      ],
      "execution_count": null,
      "outputs": []
    },
    {
      "cell_type": "markdown",
      "metadata": {
        "id": "Kd5VRZs_NS0Z"
      },
      "source": [
        "### 1.5 Edge tracking (15 points)\n",
        "\n",
        "Strong edges are interpreted as “certain edges”, and can immediately be included in the final edge image. Consider its neighbors iteratively then declare it an 'edge pixel' if it is connected to a 'strong edge pixel' directly or via pixels between Low and High. The logic is of course that noise and other small variations are unlikely to result in a strong edge (with proper adjustment of the threshold levels). Thus strong edges will (almost) only be due to true edges in the original image. The weak edges can either be due to true edges or noise/color variations. The latter type will probably be distributed independently of edges on the entire image, and thus only a small amount will be located adjacent to strong edges. Weak edges due to true edges are much more likely to be connected directly to strong edges.\n",
        "\n",
        "Implement **`link_edges`**.\n",
        "\n",
        "We provide the correct output and the difference between it and your result for debugging purposes.  If you see white spots in the Difference image, you should check your implementation."
      ]
    },
    {
      "cell_type": "code",
      "metadata": {
        "id": "jhq9LA4hOWuG"
      },
      "source": [
        "def get_neighbors(y, x, H, W):\n",
        "    \"\"\" Return indices of valid neighbors of (y, x).\n",
        "\n",
        "    Return indices of all the valid neighbors of (y, x) in an array of\n",
        "    shape (H, W). An index (i, j) of a valid neighbor should satisfy\n",
        "    the following:\n",
        "        1. i >= 0 and i < H\n",
        "        2. j >= 0 and j < W\n",
        "        3. (i, j) != (y, x)\n",
        "\n",
        "    Args:\n",
        "        y, x: location of the pixel.\n",
        "        H, W: size of the image.\n",
        "    Returns:\n",
        "        neighbors: list of indices of neighboring pixels [(i, j)].\n",
        "    \"\"\"\n",
        "    neighbors = []\n",
        "\n",
        "    for i in (y-1, y, y+1):\n",
        "        for j in (x-1, x, x+1):\n",
        "            if i >= 0 and i < H and j >= 0 and j < W:\n",
        "                if (i == y and j == x):\n",
        "                    continue\n",
        "                neighbors.append((i, j))\n",
        "\n",
        "    return neighbors"
      ],
      "execution_count": null,
      "outputs": []
    },
    {
      "cell_type": "code",
      "metadata": {
        "id": "2wl5D-TROaVz"
      },
      "source": [
        "def link_edges(strong_edges, weak_edges):\n",
        "    \"\"\" Find weak edges connected to strong edges and link them.\n",
        "\n",
        "    Iterate over each pixel in strong_edges and perform breadth first\n",
        "    search across the connected pixels in weak_edges to link them.\n",
        "    Here we consider a pixel (a, b) is connected to a pixel (c, d)\n",
        "    if (a, b) is one of the eight neighboring pixels of (c, d).\n",
        "\n",
        "    Args:\n",
        "        strong_edges: binary image of shape (H, W).\n",
        "        weak_edges: binary image of shape (H, W).\n",
        "    \n",
        "    Returns:\n",
        "        edges: numpy boolean array of shape(H, W).\n",
        "    \"\"\"\n",
        "\n",
        "    H, W = strong_edges.shape\n",
        "    indices = np.stack(np.nonzero(strong_edges)).T\n",
        "    edges = np.zeros((H, W), dtype=np.bool)\n",
        "\n",
        "    # Make new instances of arguments to leave the original\n",
        "    # references intact\n",
        "    weak_edges = np.copy(weak_edges)\n",
        "    edges = np.copy(strong_edges)\n",
        "\n",
        "    ### YOUR CODE HERE\n",
        "    pass\n",
        "    ### END YOUR CODE\n",
        "\n",
        "    return edges"
      ],
      "execution_count": null,
      "outputs": []
    },
    {
      "cell_type": "code",
      "metadata": {
        "id": "re7FIAr7NS0a"
      },
      "source": [
        "test_strong = np.array(\n",
        "    [[1, 0, 0, 0],\n",
        "     [0, 0, 0, 0],\n",
        "     [0, 0, 0, 0],\n",
        "     [0, 0, 0, 1]],\n",
        "    dtype=np.bool\n",
        ")\n",
        "\n",
        "test_weak = np.array(\n",
        "    [[0, 0, 0, 1],\n",
        "     [0, 1, 0, 0],\n",
        "     [1, 0, 0, 0],\n",
        "     [0, 0, 1, 0]],\n",
        "    dtype=np.bool\n",
        ")\n",
        "\n",
        "test_linked = link_edges(test_strong, test_weak)\n",
        "\n",
        "plt.subplot(1, 3, 1)\n",
        "plt.imshow(test_strong)\n",
        "plt.title('Strong edges')\n",
        "\n",
        "plt.subplot(1, 3, 2)\n",
        "plt.imshow(test_weak)\n",
        "plt.title('Weak edges')\n",
        "\n",
        "plt.subplot(1, 3, 3)\n",
        "plt.imshow(test_linked)\n",
        "plt.title('Linked edges')\n",
        "plt.show()"
      ],
      "execution_count": null,
      "outputs": []
    },
    {
      "cell_type": "code",
      "metadata": {
        "id": "I3uCYT1qNS0b"
      },
      "source": [
        "edges = link_edges(strong_edges, weak_edges)\n",
        "\n",
        "plt.imshow(edges)\n",
        "plt.axis('off')\n",
        "plt.show()\n",
        "\n",
        "plt.subplot(1, 3, 1)\n",
        "plt.imshow(edges)\n",
        "plt.axis('off')\n",
        "plt.title('Your result')\n",
        "\n",
        "plt.subplot(1, 3, 2)\n",
        "reference = np.load('references/iguana_edge_tracking.npy')\n",
        "plt.imshow(reference)\n",
        "plt.axis('off')\n",
        "plt.title('Reference')\n",
        "\n",
        "plt.subplot(1, 3, 3)\n",
        "plt.imshow(edges ^ reference)\n",
        "plt.title('Difference')\n",
        "plt.axis('off')\n",
        "plt.show()"
      ],
      "execution_count": null,
      "outputs": []
    },
    {
      "cell_type": "markdown",
      "metadata": {
        "id": "NfMuwjG5NS0c"
      },
      "source": [
        "### 1.6 Canny edge detector\n",
        "Implement **`canny`** using the functions you have implemented so far. Test edge detector with different parameters.\n",
        "\n",
        "Here is an example of the output:\n",
        "\n",
        "![iguana_edges.png](https://drive.google.com/uc?export=view&id=1GlG5c3rbxOwFAGLSSUN6I-Bf4iU_uvXN)\n",
        "\n",
        "We provide the correct output and the difference between it and your result for debugging purposes.  If you see white spots in the Difference image, you should check your implementation."
      ]
    },
    {
      "cell_type": "code",
      "metadata": {
        "id": "piJwlrq_Ohe_"
      },
      "source": [
        "def canny(img, kernel_size=5, sigma=1.4, high=20, low=15):\n",
        "    \"\"\" Implement canny edge detector by calling functions above.\n",
        "\n",
        "    Args:\n",
        "        img: binary image of shape (H, W).\n",
        "        kernel_size: int of size for kernel matrix.\n",
        "        sigma: float for calculating kernel.\n",
        "        high: high threshold for strong edges.\n",
        "        low: low threashold for weak edges.\n",
        "    Returns:\n",
        "        edge: numpy array of shape(H, W).\n",
        "    \"\"\"\n",
        "    ### YOUR CODE HERE\n",
        "    pass\n",
        "    ### END YOUR CODE\n",
        "\n",
        "    return edge"
      ],
      "execution_count": null,
      "outputs": []
    },
    {
      "cell_type": "code",
      "metadata": {
        "id": "b-PIbv8qNS0d"
      },
      "source": [
        "# Load image\n",
        "img = io.imread('iguana.png', as_gray=True)\n",
        "\n",
        "# Run Canny edge detector\n",
        "edges = canny(img, kernel_size=5, sigma=1.4, high=0.03, low=0.02)\n",
        "print (edges.shape)\n",
        "\n",
        "plt.subplot(1, 3, 1)\n",
        "plt.imshow(edges)\n",
        "plt.axis('off')\n",
        "plt.title('Your result')\n",
        "\n",
        "plt.subplot(1, 3, 2)\n",
        "reference = np.load('references/iguana_canny.npy')\n",
        "plt.imshow(reference)\n",
        "plt.axis('off')\n",
        "plt.title('Reference')\n",
        "\n",
        "plt.subplot(1, 3, 3)\n",
        "plt.imshow(edges ^ reference)\n",
        "plt.title('Difference')\n",
        "plt.axis('off')\n",
        "plt.show()"
      ],
      "execution_count": null,
      "outputs": []
    },
    {
      "cell_type": "markdown",
      "metadata": {
        "id": "Ut_H7AuANS0d"
      },
      "source": [
        "### 1.7 Question (10 points)\n",
        "\n",
        "![1.7a.png](https://drive.google.com/uc?export=view&id=1FRo8UNJn_qeD0L2kmDINnokmq8P7X2b6)\n",
        "**(a)** Suppose that the Canny edge detector successfully detects an edge in an image. The edge (see the figure above) is then rotated by θ, where the relationship between a point on the original edge $(x, y)$ and a point on the rotated edge $(x', y')$ is defined as\n",
        "\n",
        "$$\n",
        "x'=x\\cos{\\theta}\\\\\n",
        "y'=x\\sin{\\theta}\n",
        "$$\n",
        "\n",
        "Will the rotated edge be detected using the same Canny edge detector? Provide either a mathematical proof or a counter example.\n",
        "\n",
        "*-Hint 1: The detection of an edge by the Canny edge detector depends only on the magnitude of its derivative. The derivative at point (x, y) is determined by its components along the x and y directions. Think about how these magnitudes have changed because of the rotation.* <br>\n",
        "*-Hint 2: You can assume that (x,y) lies on the x-axis, i.e., y = 0. * <br>\n",
        "*-Hint 3: You can also assume that G_x(x, y) = 0. In other words, the gradient which is perpendicular to the direction of the unrotated edge at (x, y) only has a vertical component and thus only consists of G_y(x, y).*"
      ]
    },
    {
      "cell_type": "markdown",
      "metadata": {
        "id": "4NebUrZhNS0e"
      },
      "source": [
        "**Your Answer:** Write your solution in this markdown cell."
      ]
    },
    {
      "cell_type": "markdown",
      "metadata": {
        "id": "OKuZpsJENS0e"
      },
      "source": [
        "**(b)** After running the Canny edge detector on an image, you notice that long edges are broken into short segments separated by gaps. In addition, some spurious edges appear. For each of the two thresholds (low and high) used in hysteresis thresholding, explain how you would adjust the threshold (up or down) to address both problems. Assume that a setting exists for the two thresholds that produces the desired result. Briefly explain your answer."
      ]
    },
    {
      "cell_type": "markdown",
      "metadata": {
        "id": "9Oj31lEYNS0f"
      },
      "source": [
        "**Your Answer:** Write your solution in this markdown cell."
      ]
    },
    {
      "cell_type": "markdown",
      "metadata": {
        "id": "Q34rEyegNS0g"
      },
      "source": [
        "## Part2: Lane Detection (15 points)\n",
        "\n",
        "In this section we will implement a simple lane detection application using Canny edge detector and Hough transform.\n",
        "Here are some example images of how your final lane detector will look like.\n",
        "\n",
        "<img src=\"https://drive.google.com/uc?export=view&id=1uvQNIFy_rXQ7-dHSA-DLUBnh8DGw9Uah\" width=\"400\">\n",
        "<img src=\"https://drive.google.com/uc?export=view&id=1ikmb_iON8oskPfkbZzKea-luIcnKvRb7\" width=\"400\">\n",
        "\n",
        "The algorithm can broken down into the following steps:\n",
        "1. Detect edges using the Canny edge detector.\n",
        "2. Extract the edges in the region of interest (a triangle covering the bottom corners and the center of the image).\n",
        "3. Run Hough transform to detect lanes.\n",
        "\n"
      ]
    },
    {
      "cell_type": "markdown",
      "metadata": {
        "id": "oRVirw4-NS0i"
      },
      "source": [
        "### 2.1 Edge detection\n",
        "Lanes on the roads are usually thin and long lines with bright colors. Our edge detection algorithm by itself should be able to find the lanes pretty well. Run the code cell below to load the example image and detect edges from the image."
      ]
    },
    {
      "cell_type": "code",
      "metadata": {
        "id": "Dj2ewipZNS0i"
      },
      "source": [
        "# Load image\n",
        "img = io.imread('road.jpg', as_gray=True)\n",
        "\n",
        "# Run Canny edge detector\n",
        "edges = canny(img, kernel_size=5, sigma=1.4, high=0.03, low=0.02)\n",
        "\n",
        "plt.subplot(211)\n",
        "plt.imshow(img)\n",
        "plt.axis('off')\n",
        "plt.title('Input Image')\n",
        "\n",
        "plt.subplot(212)\n",
        "plt.imshow(edges)\n",
        "plt.axis('off')\n",
        "plt.title('Edges')\n",
        "plt.show()"
      ],
      "execution_count": null,
      "outputs": []
    },
    {
      "cell_type": "markdown",
      "metadata": {
        "id": "BtgX1dLuNS0j"
      },
      "source": [
        "### 2.2 Extracting region of interest (ROI)\n",
        "We can see that the Canny edge detector could find the edges of the lanes. However, we can also see that there are edges of other objects that we are not interested in. Given the position and orientation of the camera, we know that the lanes will be located in the lower half of the image. The code below defines a binary mask for the ROI and extract the edges within the region."
      ]
    },
    {
      "cell_type": "code",
      "metadata": {
        "id": "5kbrvFQuNS0j"
      },
      "source": [
        "H, W = img.shape\n",
        "\n",
        "# Generate mask for ROI (Region of Interest)\n",
        "mask = np.zeros((H, W))\n",
        "for i in range(H):\n",
        "    for j in range(W):\n",
        "        if i > (H / W) * j and i > -(H / W) * j + H:\n",
        "            mask[i, j] = 1\n",
        "\n",
        "# Extract edges in ROI\n",
        "roi = edges * mask\n",
        "\n",
        "plt.subplot(1,2,1)\n",
        "plt.imshow(mask)\n",
        "plt.title('Mask')\n",
        "plt.axis('off')\n",
        "\n",
        "plt.subplot(1,2,2)\n",
        "plt.imshow(roi)\n",
        "plt.title('Edges in ROI')\n",
        "plt.axis('off')\n",
        "plt.show()"
      ],
      "execution_count": null,
      "outputs": []
    },
    {
      "cell_type": "markdown",
      "metadata": {
        "id": "kUfy2Pp8NS0k"
      },
      "source": [
        "### 2.3 Fitting lines using Hough transform (15 points)\n",
        "The output from the edge detector is still a collection of connected points. However, it would be more natural to represent a lane as a line parameterized as $y = ax + b$, with a slope $a$ and y-intercept $b$. We will use Hough transform to find parameterized lines that represent the detected edges.\n",
        "\n",
        "In general, a straight line $y = ax + b$ can be represented as a point $(a, b)$ in the parameter space. However, this cannot represent vertical lines as the slope parameter will be unbounded. Alternatively, we parameterize a line using $\\theta\\in{[-\\pi, \\pi]}$ and $\\rho\\in{\\mathbb{R}}$ as follows:\n",
        "\n",
        "$$\n",
        "\\rho = x\\cdot{cos\\theta} + y\\cdot{sin\\theta}\n",
        "$$\n",
        "\n",
        "Using this parameterization, we can map every point in $xy$-space to a sine-like line in $\\theta\\rho$-space (or Hough space). We then accumulate the parameterized points in the Hough space and choose points (in Hough space) with highest accumulated values. A point in Hough space then can be transformed back into a line in $xy$-space.\n",
        "\n",
        "*See [notes](http://web.ipac.caltech.edu/staff/fmasci/home/astro_refs/HoughTrans_lines_09.pdf) on Hough transform.*\n",
        "\n",
        "Implement **`hough_transform`** ."
      ]
    },
    {
      "cell_type": "code",
      "metadata": {
        "id": "LKKVUoVqO68M"
      },
      "source": [
        "def hough_transform(img):\n",
        "    \"\"\" Transform points in the input image into Hough space.\n",
        "\n",
        "    Use the parameterization:\n",
        "        rho = x * cos(theta) + y * sin(theta)\n",
        "    to transform a point (x,y) to a sine-like function in Hough space.\n",
        "\n",
        "    Args:\n",
        "        img: binary image of shape (H, W).\n",
        "        \n",
        "    Returns:\n",
        "        accumulator: numpy array of shape (m, n).\n",
        "        rhos: numpy array of shape (m, ).\n",
        "        thetas: numpy array of shape (n, ).\n",
        "    \"\"\"\n",
        "    # Set rho and theta ranges\n",
        "    W, H = img.shape\n",
        "    diag_len = int(np.ceil(np.sqrt(W * W + H * H)))\n",
        "    rhos = np.linspace(-diag_len, diag_len, diag_len * 2 + 1)\n",
        "    thetas = np.deg2rad(np.arange(-90.0, 90.0))\n",
        "\n",
        "    # Cache some reusable values\n",
        "    cos_t = np.cos(thetas)\n",
        "    sin_t = np.sin(thetas)\n",
        "    num_thetas = len(thetas)\n",
        "\n",
        "    # Initialize accumulator in the Hough space\n",
        "    accumulator = np.zeros((2 * diag_len + 1, num_thetas), dtype=np.uint64)\n",
        "    ys, xs = np.nonzero(img)\n",
        "\n",
        "    # Transform each point (x, y) in image\n",
        "    # Find rho corresponding to values in thetas\n",
        "    # and increment the accumulator in the corresponding coordiate.\n",
        "    ### YOUR CODE HERE\n",
        "    pass\n",
        "    ### END YOUR CODE\n",
        "\n",
        "    return accumulator, rhos, thetas"
      ],
      "execution_count": null,
      "outputs": []
    },
    {
      "cell_type": "code",
      "metadata": {
        "id": "hn15NdyyNS0k"
      },
      "source": [
        "# Perform Hough transform on the ROI\n",
        "acc, rhos, thetas = hough_transform(roi)\n",
        "\n",
        "# Coordinates for right lane\n",
        "xs_right = []\n",
        "ys_right = []\n",
        "\n",
        "# Coordinates for left lane\n",
        "xs_left = []\n",
        "ys_left = []\n",
        "\n",
        "for i in range(20):\n",
        "    idx = np.argmax(acc)\n",
        "    r_idx = idx // acc.shape[1]\n",
        "    t_idx = idx % acc.shape[1]\n",
        "    acc[r_idx, t_idx] = 0 # Zero out the max value in accumulator\n",
        "\n",
        "    rho = rhos[r_idx]\n",
        "    theta = thetas[t_idx]\n",
        "    \n",
        "    # Transform a point in Hough space to a line in xy-space.\n",
        "    a = - (np.cos(theta)/np.sin(theta)) # slope of the line\n",
        "    b = (rho/np.sin(theta)) # y-intersect of the line\n",
        "\n",
        "    # Break if both right and left lanes are detected\n",
        "    if xs_right and xs_left:\n",
        "        break\n",
        "    \n",
        "    if a < 0: # Left lane\n",
        "        if xs_left:\n",
        "            continue\n",
        "        xs = xs_left\n",
        "        ys = ys_left\n",
        "    else: # Right Lane\n",
        "        if xs_right:\n",
        "            continue\n",
        "        xs = xs_right\n",
        "        ys = ys_right\n",
        "\n",
        "    for x in range(img.shape[1]):\n",
        "        y = a * x + b\n",
        "        if y > img.shape[0] * 0.6 and y < img.shape[0]:\n",
        "            xs.append(x)\n",
        "            ys.append(int(round(y)))\n",
        "\n",
        "plt.imshow(img)\n",
        "plt.plot(xs_left, ys_left, linewidth=5.0)\n",
        "plt.plot(xs_right, ys_right, linewidth=5.0)\n",
        "plt.axis('off')\n",
        "plt.show()"
      ],
      "execution_count": null,
      "outputs": []
    },
    {
      "cell_type": "code",
      "metadata": {
        "id": "AXbDWK9vNS0l"
      },
      "source": [
        ""
      ],
      "execution_count": null,
      "outputs": []
    }
  ]
}